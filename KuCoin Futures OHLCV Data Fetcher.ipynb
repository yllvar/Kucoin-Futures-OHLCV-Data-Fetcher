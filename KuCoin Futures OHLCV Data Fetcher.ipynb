{
 "cells": [
  {
   "cell_type": "markdown",
   "id": "e3912371",
   "metadata": {},
   "source": [
    "# Introduction:\n",
    "\n",
    "This Jupyter Notebook contains code to fetch OHLCV (Open, High, Low, Close, Volume) data from the KuCoin Futures exchange using the CCXT library. The notebook utilizes environment variables to securely store the API credentials and loads them using the dotenv library. The OHLCV data is fetched for a specified trading symbol and timeframe, and the fetched data is then processed and displayed."
   ]
  },
  {
   "cell_type": "markdown",
   "id": "0748fd21",
   "metadata": {},
   "source": [
    "## Project Outline\n",
    "\n",
    "1. Import necessary libraries and load environment variables.\n",
    "2. Define a function to fetch OHLCV data for a specific symbol and timeframe.\n",
    "3. Create an instance of the Kucoin Futures exchange with the provided API credentials.\n",
    "4. Fetch OHLCV data for a specified symbol and timeframe and create a DataFrame.\n",
    "5. Analyze the fetched data and check for its validity."
   ]
  },
  {
   "cell_type": "markdown",
   "id": "aa2ac440",
   "metadata": {},
   "source": [
    "### Step 1: Importing Libraries and Loading Environment Variables\n",
    "This section will import the required libraries: ccxt, pandas, and dotenv. It will also load the environment variables from the .env file, containing the API key, secret key, and passphrase."
   ]
  },
  {
   "cell_type": "code",
   "execution_count": null,
   "id": "ccff2de9",
   "metadata": {},
   "outputs": [],
   "source": [
    "## Step 1: Importing Libraries and Loading Environment Variables\n",
    "\n",
    "import ccxt\n",
    "import pandas as pd\n",
    "from dotenv import load_dotenv\n",
    "import os\n",
    "\n",
    "# Load environment variables from .env file if present\n",
    "load_dotenv()\n",
    "\n",
    "# Constants\n",
    "API_KEY = os.getenv('API_KEY')\n",
    "SECRET_KEY = os.getenv('SECRET_KEY')\n",
    "PASSPHRASE = os.getenv('PASSPHRASE')"
   ]
  },
  {
   "cell_type": "markdown",
   "id": "0f5fb4e1",
   "metadata": {},
   "source": [
    "### Step 2: Defining the Function to Fetch OHLCV Data\n",
    "\n",
    "Here, we define a function named fetch_ohlcvs to fetch OHLCV data from the exchange. This function takes the exchange object, symbol, and timeframe as input and returns a DataFrame containing the OHLCV data."
   ]
  },
  {
   "cell_type": "code",
   "execution_count": null,
   "id": "6e37ec8b",
   "metadata": {},
   "outputs": [],
   "source": [
    "# Function to fetch OHLCV data\n",
    "def fetch_ohlcvs(exchange, symbol, timeframe):\n",
    "    try:\n",
    "        # Fetch OHLCV data\n",
    "        ohlcvs = exchange.fetch_ohlcv(symbol, timeframe=timeframe)\n",
    "\n",
    "        if not ohlcvs:\n",
    "            raise ValueError(f\"No OHLCV data available for symbol: {symbol}\")\n",
    "\n",
    "        # Create DataFrame\n",
    "        df = pd.DataFrame(ohlcvs, columns=['timestamp', 'open', 'high', 'low', 'close', 'volume'])\n",
    "        df['timestamp'] = pd.to_datetime(df['timestamp'], unit='ms')\n",
    "\n",
    "        return df\n",
    "\n",
    "    except ccxt.BaseError as e:\n",
    "        raise ValueError(f\"Error fetching OHLCV data for symbol {symbol} and timeframe {timeframe}: {e}\")\n"
   ]
  },
  {
   "cell_type": "markdown",
   "id": "705dd587",
   "metadata": {},
   "source": [
    "### Step 3: Creating an Exchange Instance\n",
    "\n",
    "This section creates an instance of the Kucoin Futures exchange using the ccxt library. It sets up the API key, secret key, passphrase, and enables rate limiting for API calls.\n"
   ]
  },
  {
   "cell_type": "code",
   "execution_count": null,
   "id": "6aaf5532",
   "metadata": {},
   "outputs": [],
   "source": [
    "# Create an instance of the Kucoin Futures exchange\n",
    "exchange = ccxt.kucoinfutures({\n",
    "    'apiKey': API_KEY,\n",
    "    'secret': SECRET_KEY,\n",
    "    'password': PASSPHRASE,\n",
    "    'enableRateLimit': True\n",
    "})"
   ]
  },
  {
   "cell_type": "markdown",
   "id": "d97a87d1",
   "metadata": {},
   "source": [
    "### Step 4: Fetching and Analyzing OHLCV Data\n",
    "\n",
    "In this step, we specify the symbol and timeframe for which we want to fetch the OHLCV data. The function fetch_ohlcvs is called with the exchange, symbol, and timeframe arguments to fetch the data. We then print the first few rows of the DataFrame to verify the fetched data. Additionally, we check if the 'close' column is present and if the DataFrame is empty or not."
   ]
  },
  {
   "cell_type": "code",
   "execution_count": null,
   "id": "44168233",
   "metadata": {},
   "outputs": [],
   "source": [
    "# Symbol and Timeframe\n",
    "symbol = 'ETH/USDT:USDT'\n",
    "timeframe = '5m'\n",
    "\n",
    "try:\n",
    "    # Fetch OHLCV data\n",
    "    ohlcvs_df = fetch_ohlcvs(exchange, symbol, timeframe)\n",
    "\n",
    "    # Check the data\n",
    "    print(f\"OHLCV data for symbol {symbol} and timeframe {timeframe}:\")\n",
    "    print(ohlcvs_df.head())\n",
    "\n",
    "    # Check if 'close' column is present\n",
    "    if 'close' in ohlcvs_df.columns:\n",
    "        print(\"'close' column is present in the OHLCV data.\")\n",
    "    else:\n",
    "        print(\"Error: 'close' column is not present in the OHLCV data.\")\n",
    "\n",
    "    # Check if the DataFrame is empty\n",
    "    if ohlcvs_df.empty:\n",
    "        print(\"Error: OHLCV data DataFrame is empty.\")\n",
    "    else:\n",
    "        print(\"OHLCV data DataFrame is not empty.\")\n",
    "\n",
    "except ValueError as ve:\n",
    "    print(ve)\n",
    "except Exception as e:\n",
    "    print(f\"Error occurred: {e}\")\n"
   ]
  },
  {
   "cell_type": "markdown",
   "id": "0958b15e",
   "metadata": {},
   "source": [
    "## Conclusion\n",
    "In this Jupyter Notebook project, we explored how to fetch OHLCV (Open/High/Low/Close/Volume) data from Kucoin Futures using the ccxt library. We utilized the unique trading symbol 'ETH/USDT:USDT' for our data retrieval. To gain access to the Kucoin Futures API, we created a passphrase during its creation, which serves as an additional layer of security.\n",
    "\n",
    "With the fetched OHLCV data, we converted it into a DataFrame for easy analysis and manipulation. We also performed checks to ensure data validity, such as verifying the presence of the 'close' column and checking for an empty DataFrame.\n",
    "\n",
    "This project serves as a foundation for further exploration and analysis of cryptocurrency trading data. By leveraging the powerful capabilities of ccxt and Kucoin Futures API, you can create sophisticated trading strategies and gain insights into market trends.\n",
    "\n",
    "Remember to keep your API credentials secure and avoid sharing them with others. Additionally, consider implementing risk management techniques when using this data for live trading to minimize potential losses and optimize your trading performance.\n",
    "\n"
   ]
  },
  {
   "cell_type": "code",
   "execution_count": null,
   "id": "8fc914fb",
   "metadata": {},
   "outputs": [],
   "source": []
  }
 ],
 "metadata": {
  "kernelspec": {
   "display_name": "Python 3 (ipykernel)",
   "language": "python",
   "name": "python3"
  },
  "language_info": {
   "codemirror_mode": {
    "name": "ipython",
    "version": 3
   },
   "file_extension": ".py",
   "mimetype": "text/x-python",
   "name": "python",
   "nbconvert_exporter": "python",
   "pygments_lexer": "ipython3",
   "version": "3.10.9"
  }
 },
 "nbformat": 4,
 "nbformat_minor": 5
}
